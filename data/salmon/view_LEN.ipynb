{
 "cells": [
  {
   "cell_type": "code",
   "execution_count": 6,
   "metadata": {},
   "outputs": [],
   "source": [
    "import pandas as pd\n",
    "import matplotlib.pyplot as plt\n",
    "import os"
   ]
  },
  {
   "cell_type": "code",
   "execution_count": 7,
   "metadata": {},
   "outputs": [
    {
     "name": "stderr",
     "output_type": "stream",
     "text": [
      "<>:2: SyntaxWarning: invalid escape sequence '\\M'\n",
      "<>:2: SyntaxWarning: invalid escape sequence '\\M'\n",
      "C:\\Users\\aslak\\AppData\\Local\\Temp\\ipykernel_4104\\866519360.py:2: SyntaxWarning: invalid escape sequence '\\M'\n",
      "  sys.path.append(\"sys.path.append('C:/Users/aslak/Master/Github_first\\Master/data/salmon/view_metrics.ipynb')\")\n",
      "C:\\Users\\aslak\\AppData\\Local\\Temp\\ipykernel_4104\\866519360.py:2: SyntaxWarning: invalid escape sequence '\\M'\n",
      "  sys.path.append(\"sys.path.append('C:/Users/aslak/Master/Github_first\\Master/data/salmon/view_metrics.ipynb')\")\n"
     ]
    },
    {
     "ename": "NameError",
     "evalue": "name 'sys' is not defined",
     "output_type": "error",
     "traceback": [
      "\u001b[1;31m---------------------------------------------------------------------------\u001b[0m",
      "\u001b[1;31mNameError\u001b[0m                                 Traceback (most recent call last)",
      "Cell \u001b[1;32mIn[7], line 2\u001b[0m\n\u001b[0;32m      1\u001b[0m \u001b[38;5;66;03m#add the path to the metrics_csv file\u001b[39;00m\n\u001b[1;32m----> 2\u001b[0m \u001b[43msys\u001b[49m\u001b[38;5;241m.\u001b[39mpath\u001b[38;5;241m.\u001b[39mappend(\u001b[38;5;124m\"\u001b[39m\u001b[38;5;124msys.path.append(\u001b[39m\u001b[38;5;124m'\u001b[39m\u001b[38;5;124mC:/Users/aslak/Master/Github_first\u001b[39m\u001b[38;5;124m\\\u001b[39m\u001b[38;5;124mMaster/data/salmon/view_metrics.ipynb\u001b[39m\u001b[38;5;124m'\u001b[39m\u001b[38;5;124m)\u001b[39m\u001b[38;5;124m\"\u001b[39m)\n\u001b[0;32m      3\u001b[0m \u001b[38;5;66;03m# Load the metrics into a pandas DataFrame\u001b[39;00m\n\u001b[0;32m      4\u001b[0m df \u001b[38;5;241m=\u001b[39m pd\u001b[38;5;241m.\u001b[39mread_csv(\u001b[38;5;124m\"\u001b[39m\u001b[38;5;124m./metrics_csv\u001b[39m\u001b[38;5;124m\"\u001b[39m)\n",
      "\u001b[1;31mNameError\u001b[0m: name 'sys' is not defined"
     ]
    }
   ],
   "source": [
    "#add the path to the metrics_csv file\n",
    "sys.path.append(\"sys.path.append('C:/Users/aslak/Master/Github_first\\Master/data/salmon/')\")\n",
    "# Load the metrics into a pandas DataFrame\n",
    "df = pd.read_csv(\"./metrics_csv\")\n",
    "df = df.dropna(how='all')\n",
    "    # Create a new figure\n",
    "plt.figure()\n",
    "\n",
    "    # Plot AUCROC\n",
    "plt.plot(df['num_units'], df['AUCROC'], label='AUCROC')\n",
    "\n",
    "    # Plot AUCPR\n",
    "plt.plot(df['num_units'], df['AUCPR'], label='AUCPR')\n",
    "plt.xlim(0,500)\n",
    "plt.ylim(0,1)\n",
    "    # Add a legend\n",
    "plt.legend()\n",
    "\n",
    "    # Add labels\n",
    "plt.xlabel('num_units')\n",
    "plt.ylabel('Score')\n",
    "\n",
    "plt.tight_layout()\n",
    "plt.show()"
   ]
  }
 ],
 "metadata": {
  "kernelspec": {
   "display_name": "testy",
   "language": "python",
   "name": "python3"
  },
  "language_info": {
   "codemirror_mode": {
    "name": "ipython",
    "version": 3
   },
   "file_extension": ".py",
   "mimetype": "text/x-python",
   "name": "python",
   "nbconvert_exporter": "python",
   "pygments_lexer": "ipython3",
   "version": "3.12.2"
  }
 },
 "nbformat": 4,
 "nbformat_minor": 2
}
