{
 "cells": [
  {
   "cell_type": "code",
   "execution_count": null,
   "outputs": [],
   "source": [
    "import sys\n",
    "import time\n",
    "\n",
    "sys.path.append('..')\n",
    "import os\n",
    "import torch\n",
    "import pandas as pd\n",
    "import numpy as np\n",
    "import lens\n",
    "from lens.models.relu_nn import XReluNN\n",
    "from lens.models.psi_nn import XPsiNetwork\n",
    "from lens.utils.base import set_seed, ClassifierNotTrainedError, IncompatibleClassifierError\n",
    "from lens.utils.metrics import ClusterAccuracy, F1Score\n",
    "from lens.models.mu_nn import XMuNN\n",
    "from lens.utils.datasets import ConceptOnlyDataset\n",
    "from lens.utils.data import get_splits_train_val_test\n",
    "from lens.utils.loss import MutualInformationLoss\n",
    "from lens.logic import test_explanation, fidelity, complexity\n",
    "from lens.logic.metrics import accuracy_score\n",
    "from data import MNIST\n",
    "from data.download_mnist import download_mnist\n",
    "from experiments.MNIST.concept_extractor_mnist import concept_extractor_MNIST\n",
    "\n",
    "results_dir = 'results/mnist_mi'\n",
    "if not os.path.isdir(results_dir):\n",
    "    os.makedirs(results_dir)"
   ],
   "metadata": {
    "collapsed": false,
    "pycharm": {
     "name": "#%%\n"
    }
   }
  },
  {
   "cell_type": "markdown",
   "source": [
    "## Loading MNIST data"
   ],
   "metadata": {
    "collapsed": false
   }
  },
  {
   "cell_type": "code",
   "execution_count": null,
   "outputs": [],
   "source": [
    "dataset_root = \"../data/MNIST_EVEN_ODD/\"\n",
    "if not os.path.isdir(dataset_root):\n",
    "    download_mnist(dataset_root)\n",
    "else:\n",
    "    print(\"Dataset already downloaded\")\n",
    "print(dataset_root)"
   ],
   "metadata": {
    "collapsed": false,
    "pycharm": {
     "name": "#%%\n"
    }
   }
  },
  {
   "cell_type": "markdown",
   "source": [
    "## Extracting concepts"
   ],
   "metadata": {
    "collapsed": false
   }
  },
  {
   "cell_type": "code",
   "execution_count": null,
   "outputs": [],
   "source": [
    "if not os.path.isfile(os.path.join(dataset_root, f\"{MNIST}_multi_label_predictions.npy\")):\n",
    "    concept_extractor_MNIST(dataset_root, multi_label=True)\n",
    "else:\n",
    "    print(\"Concepts already extracted\")\n",
    "dataset = ConceptOnlyDataset(dataset_root, dataset_name=MNIST)\n",
    "concept_names = dataset.attribute_names\n",
    "print(\"Concept names\", concept_names)\n",
    "n_features = dataset.n_attributes\n",
    "print(\"Number of features\", n_features)\n",
    "n_clusters = 2\n",
    "print(\"Number of cluster\", n_clusters)"
   ],
   "metadata": {
    "collapsed": false,
    "pycharm": {
     "name": "#%%\n"
    }
   }
  },
  {
   "cell_type": "markdown",
   "source": [
    "## Training Hyperparameters"
   ],
   "metadata": {
    "collapsed": false
   }
  },
  {
   "cell_type": "code",
   "execution_count": null,
   "outputs": [],
   "source": [
    "epochs = 100\n",
    "l_r = 1e-3\n",
    "lr_scheduler = True\n",
    "simplify = True\n",
    "seeds = [*range(10)]\n",
    "print(\"Seeds\", seeds)\n",
    "top_k_explanations = 5\n",
    "device = torch.device(\"cpu\") if torch.cuda.is_available() else torch.device(\"cpu\")\n",
    "print(\"Device\", device)"
   ],
   "metadata": {
    "collapsed": false,
    "pycharm": {
     "name": "#%%\n"
    }
   }
  },
  {
   "cell_type": "markdown",
   "source": [
    "## Define methods, loss, metrics and saved metrics"
   ],
   "metadata": {
    "collapsed": false
   }
  },
  {
   "cell_type": "code",
   "execution_count": null,
   "outputs": [],
   "source": [
    "method_list = ['Psi', 'General', 'Relu']\n",
    "loss = MutualInformationLoss()\n",
    "metric = ClusterAccuracy()\n",
    "\n",
    "for method in method_list:\n",
    "\n",
    "    methods = []\n",
    "    splits = []\n",
    "    explanations = []\n",
    "    model_accuracies = []\n",
    "    explanation_accuracies = []\n",
    "    elapsed_times = []\n",
    "    explanation_fidelities = []\n",
    "    explanation_complexities = []\n",
    "\n",
    "    for seed in seeds:\n",
    "        set_seed(seed)\n",
    "        name = os.path.join(results_dir, f\"{method}_{seed}\")\n",
    "\n",
    "        train_data, val_data, test_data = get_splits_train_val_test(dataset, load=False)\n",
    "        x_val = torch.tensor(dataset.attributes[val_data.indices])\n",
    "        y_val = torch.tensor(dataset.targets[val_data.indices])\n",
    "        x_test = torch.tensor(dataset.attributes[test_data.indices])\n",
    "        y_test = torch.tensor(dataset.targets[test_data.indices])\n",
    "        print(train_data.indices)\n",
    "\n",
    "        # Setting device\n",
    "        print(f\"Training {name} Classifier...\")\n",
    "        start_time = time.time()\n",
    "\n",
    "        if method == 'Psi':\n",
    "            # Network structures\n",
    "            l1_weight = 1e-2\n",
    "            print(\"l1 weight\", l1_weight)\n",
    "            hidden_neurons = []\n",
    "            fan_in = 2\n",
    "            lr_psi = 1e-2\n",
    "            model = XPsiNetwork(n_clusters, n_features, hidden_neurons, loss,\n",
    "                               l1_weight, name=name, fan_in=fan_in)\n",
    "            try:\n",
    "                model.load(device)\n",
    "                print(f\"Model {name} already trained\")\n",
    "            except (ClassifierNotTrainedError, IncompatibleClassifierError):\n",
    "                results = model.fit(train_data, val_data, epochs=epochs, l_r=lr_psi, verbose=True,\n",
    "                                    metric=metric, lr_scheduler=lr_scheduler, device=device, save=True)\n",
    "            outputs, labels = model.predict(test_data, device=device)\n",
    "            accuracy = model.evaluate(test_data, metric=metric, outputs=outputs, labels=labels)\n",
    "            print(\"Test model accuracy\", accuracy)\n",
    "            formulas, exp_predictions, exp_complexities = [], [], []\n",
    "            for i, class_to_explain in enumerate(dataset.classes):\n",
    "                formula = model.get_global_explanation(i, concept_names, simplify=simplify)\n",
    "                _, exp_prediction = test_explanation(formula, i, x_test, y_test,\n",
    "                                                     metric=F1Score(), concept_names=concept_names)\n",
    "                exp_prediction = torch.as_tensor(exp_prediction)\n",
    "                explanation_complexity = complexity(formula, to_dnf=True)\n",
    "                formulas.append(formula)\n",
    "                exp_predictions.append(exp_prediction)\n",
    "                exp_complexities.append(explanation_complexity)\n",
    "                print(f\"Formula {i}: {formula}\")\n",
    "                print(\"Explanation complexity\", explanation_complexity)\n",
    "            outputs = outputs.argmax(dim=1)\n",
    "            exp_predictions = torch.stack(exp_predictions, dim=1)\n",
    "            exp_accuracy = accuracy_score(exp_predictions, labels, metric)\n",
    "            exp_fidelity = fidelity(exp_predictions, outputs, metric)\n",
    "\n",
    "        elif method == 'General':\n",
    "            # Network structures\n",
    "            l1_weight = 1e-3\n",
    "            fan_in = None\n",
    "            hidden_neurons = [20, 10]\n",
    "            model = XMuNN(n_classes=n_clusters, n_features=n_features, hidden_neurons=hidden_neurons,\n",
    "                               loss=loss, name=name, l1_weight=l1_weight, fan_in=fan_in)\n",
    "            try:\n",
    "                model.load(device)\n",
    "                print(f\"Model {name} already trained\")\n",
    "            except (ClassifierNotTrainedError, IncompatibleClassifierError):\n",
    "                results = model.fit(train_data, val_data, epochs=epochs, l_r=l_r, metric=metric,\n",
    "                                    lr_scheduler=lr_scheduler, device=device, save=True, verbose=True)\n",
    "            outputs, labels = model.predict(test_data, device=device)\n",
    "            accuracy = model.evaluate(test_data, metric=metric, outputs=outputs, labels=labels)\n",
    "            print(\"Test model accuracy\", accuracy)\n",
    "            formulas, exp_predictions, exp_complexities = [], [], []\n",
    "            for i, class_to_explain in enumerate(dataset.classes):\n",
    "                formula = model.get_global_explanation(x_val, y_val, i, top_k_explanations=top_k_explanations,\n",
    "                                                       concept_names=concept_names, simplify=simplify)\n",
    "                _, exp_prediction = test_explanation(formula, i, x_test, y_test,\n",
    "                                                     metric=F1Score(), concept_names=concept_names)\n",
    "                exp_prediction = torch.as_tensor(exp_prediction)\n",
    "                explanation_complexity = complexity(formula, to_dnf=True)\n",
    "                formulas.append(formula)\n",
    "                exp_predictions.append(exp_prediction)\n",
    "                exp_complexities.append(explanation_complexity)\n",
    "                print(f\"Formula {i}: {formula}\")\n",
    "                print(\"Explanation complexity\", explanation_complexity)\n",
    "            outputs = outputs.argmax(dim=1)\n",
    "            exp_predictions = torch.stack(exp_predictions, dim=1)\n",
    "            exp_accuracy = accuracy_score(exp_predictions, labels, metric)\n",
    "            exp_fidelity = fidelity(exp_predictions, outputs, metric)\n",
    "\n",
    "        elif method == 'Relu':\n",
    "            # Network structures\n",
    "            l1_weight = 1e-4\n",
    "            hidden_neurons = [50, 30]\n",
    "            model = XReluNN(n_classes=n_clusters, n_features=n_features, name=name,\n",
    "                            hidden_neurons=hidden_neurons, loss=loss, l1_weight=l1_weight)\n",
    "            try:\n",
    "                model.load(device)\n",
    "                print(f\"Model {name} already trained\")\n",
    "            except (ClassifierNotTrainedError, IncompatibleClassifierError):\n",
    "                results = model.fit(train_data, val_data, epochs=epochs, l_r=l_r, verbose=True,\n",
    "                                    metric=metric, lr_scheduler=lr_scheduler, device=device, save=True)\n",
    "            outputs, labels = model.predict(test_data, device=device)\n",
    "            accuracy = model.evaluate(test_data, metric=metric, outputs=outputs, labels=labels)\n",
    "            print(\"Test model accuracy\", accuracy)\n",
    "            formulas, exp_predictions, exp_complexities = [], [], []\n",
    "            for i, class_to_explain in enumerate(dataset.classes):\n",
    "                formula = model.get_global_explanation(x_val, y_val, i, simplify=simplify,\n",
    "                                                       top_k_explanations=top_k_explanations,\n",
    "                                                       concept_names=concept_names)\n",
    "                _, exp_prediction = test_explanation(formula, i, x_test, y_test,\n",
    "                                                     metric=F1Score(), concept_names=concept_names)\n",
    "                exp_prediction = torch.as_tensor(exp_prediction)\n",
    "                explanation_complexity = complexity(formula, to_dnf=True)\n",
    "                formulas.append(formula)\n",
    "                exp_predictions.append(exp_prediction)\n",
    "                exp_complexities.append(explanation_complexity)\n",
    "                print(f\"Formula {i}: {formula}\")\n",
    "                print(\"Explanation complexity\", explanation_complexity)\n",
    "            outputs = outputs.argmax(dim=1)\n",
    "            exp_predictions = torch.stack(exp_predictions, dim=1)\n",
    "            exp_accuracy = accuracy_score(exp_predictions, labels, metric)\n",
    "            exp_fidelity = fidelity(exp_predictions, outputs, metric)\n",
    "\n",
    "        else:\n",
    "            raise NotImplementedError(f\"{method} not implemented\")\n",
    "\n",
    "        elapsed_time = time.time() - start_time\n",
    "        methods.append(method)\n",
    "        splits.append(seed)\n",
    "        explanations.append(formulas[0])\n",
    "        model_accuracies.append(accuracy)\n",
    "        explanation_accuracies.append(exp_accuracy)\n",
    "        explanation_fidelities.append(exp_fidelity)\n",
    "        elapsed_times.append(elapsed_time)\n",
    "        explanation_complexities.append(np.mean(exp_complexities))\n",
    "\n",
    "    explanation_consistency = lens.logic.formula_consistency(explanations)\n",
    "    print(f'Consistency of explanations: {explanation_consistency:.4f}')\n",
    "\n",
    "    results = pd.DataFrame({\n",
    "        'method': methods,\n",
    "        'split': splits,\n",
    "        'explanation': explanations,\n",
    "        'model_accuracy': model_accuracies,\n",
    "        'explanation_accuracy': explanation_accuracies,\n",
    "        'explanation_fidelity': explanation_fidelities,\n",
    "        'explanation_complexity': explanation_complexities,\n",
    "        'explanation_consistency': explanation_consistency,\n",
    "        'elapsed_time': elapsed_times,\n",
    "    })\n",
    "    results.to_csv(os.path.join(results_dir, f'results_{method}.csv'))\n",
    "    print(results)"
   ],
   "metadata": {
    "collapsed": false,
    "pycharm": {
     "name": "#%%\n"
    }
   }
  },
  {
   "cell_type": "markdown",
   "source": [
    "## Summary"
   ],
   "metadata": {
    "collapsed": false
   }
  },
  {
   "cell_type": "code",
   "execution_count": null,
   "outputs": [],
   "source": [
    "cols = ['model_accuracy', 'explanation_accuracy', 'explanation_fidelity', 'explanation_complexity', 'elapsed_time',\n",
    "        'explanation_consistency']\n",
    "mean_cols = [f'{c}_mean' for c in cols]\n",
    "sem_cols = [f'{c}_sem' for c in cols]\n",
    "\n",
    "results = {}\n",
    "summaries = {}\n",
    "for method in method_list:\n",
    "    results[method] = pd.read_csv(os.path.join(results_dir, f\"results_{method}.csv\"))\n",
    "    df_mean = results[method][cols].mean()\n",
    "    df_sem = results[method][cols].sem()\n",
    "    df_mean.columns = mean_cols\n",
    "    df_sem.columns = sem_cols\n",
    "    summaries[method] = pd.concat([df_mean, df_sem])\n",
    "    summaries[method].name = method\n",
    "\n",
    "results = pd.concat([results[method] for method in method_list], axis=1).T\n",
    "results.to_csv(os.path.join(results_dir, f'results.csv'))\n",
    "\n",
    "summary = pd.concat([summaries[method] for method in method_list], axis=1).T\n",
    "summary.columns = mean_cols + sem_cols\n",
    "summary.to_csv(os.path.join(results_dir, 'summary.csv'))\n",
    "print(summary)"
   ],
   "metadata": {
    "collapsed": false,
    "pycharm": {
     "name": "#%%\n"
    }
   }
  }
 ],
 "metadata": {
  "kernelspec": {
   "display_name": "Python 3",
   "language": "python",
   "name": "python3"
  },
  "language_info": {
   "codemirror_mode": {
    "name": "ipython",
    "version": 2
   },
   "file_extension": ".py",
   "mimetype": "text/x-python",
   "name": "python",
   "nbconvert_exporter": "python",
   "pygments_lexer": "ipython2",
   "version": "2.7.6"
  }
 },
 "nbformat": 4,
 "nbformat_minor": 0
}