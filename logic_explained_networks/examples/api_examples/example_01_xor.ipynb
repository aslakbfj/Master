{
 "cells": [
  {
   "cell_type": "code",
   "execution_count": 14,
   "metadata": {},
   "outputs": [
    {
     "name": "stdout",
     "output_type": "stream",
     "text": [
      "wd:\n",
      " /net/fs-2/scale/OrionStore/Home/asfj/LEN/logic_explained_networks/examples/api_examples\n",
      "shell:\n",
      " /bin/bash\n",
      "python version/path:\n",
      " /mnt/users/asfj/mambaforge/envs/explainn/bin/python\n",
      "mamba path:\n",
      "which: no mamba in (/cluster/software/slurm/23.02.3/sbin:/cluster/software/slurm/23.02.3/bin:/cluster/software/nodejs/18.12.1-GCCcore-12.2.0/bin:/cluster/software/OpenSSL/1.1/bin:/cluster/software/ICU/72.1-GCCcore-12.2.0/sbin:/cluster/software/ICU/72.1-GCCcore-12.2.0/bin:/cluster/software/GCCcore/12.2.0/bin:/cluster/software/slurm-utils/1.0/bin:/sbin:/bin:/usr/sbin:/usr/bin:/mnt/orion/scripts)\n"
     ]
    }
   ],
   "source": [
    "import os\n",
    "print(f'wd:\\n',os.getcwd())\n",
    "\n",
    "print(f'shell:\\n',os.getenv('SHELL'))\n",
    "\n",
    "import sys\n",
    "print(f'python version/path:\\n',sys.executable)\n",
    "\n",
    "print('mamba path:')\n",
    "!which mamba"
   ]
  },
  {
   "cell_type": "code",
   "execution_count": 8,
   "metadata": {},
   "outputs": [
    {
     "name": "stdout",
     "output_type": "stream",
     "text": [
      "/bin/bash: line 0: source: filename argument required\n",
      "source: usage: source filename [arguments]\n"
     ]
    }
   ],
   "source": [
    "!source /mnt/users/asfj/mambaforge/bin/activate explainn"
   ]
  },
  {
   "cell_type": "code",
   "execution_count": 5,
   "metadata": {},
   "outputs": [
    {
     "ename": "ModuleNotFoundError",
     "evalue": "No module named 'sympy'",
     "output_type": "error",
     "traceback": [
      "\u001b[0;31m---------------------------------------------------------------------------\u001b[0m",
      "\u001b[0;31mModuleNotFoundError\u001b[0m                       Traceback (most recent call last)",
      "Cell \u001b[0;32mIn[5], line 8\u001b[0m\n\u001b[1;32m      5\u001b[0m \u001b[38;5;28;01mimport\u001b[39;00m \u001b[38;5;21;01mnumpy\u001b[39;00m \u001b[38;5;28;01mas\u001b[39;00m \u001b[38;5;21;01mnp\u001b[39;00m\n\u001b[1;32m      6\u001b[0m \u001b[38;5;28;01mimport\u001b[39;00m \u001b[38;5;21;01mmatplotlib\u001b[39;00m\u001b[38;5;21;01m.\u001b[39;00m\u001b[38;5;21;01mpyplot\u001b[39;00m \u001b[38;5;28;01mas\u001b[39;00m \u001b[38;5;21;01mplt\u001b[39;00m\n\u001b[0;32m----> 8\u001b[0m \u001b[38;5;28;01mfrom\u001b[39;00m \u001b[38;5;21;01mlens\u001b[39;00m \u001b[38;5;28;01mimport\u001b[39;00m logic\n\u001b[1;32m     10\u001b[0m torch\u001b[38;5;241m.\u001b[39mmanual_seed(\u001b[38;5;241m0\u001b[39m)\n\u001b[1;32m     11\u001b[0m np\u001b[38;5;241m.\u001b[39mrandom\u001b[38;5;241m.\u001b[39mseed(\u001b[38;5;241m0\u001b[39m)\n",
      "File \u001b[0;32m/net/fs-2/scale/OrionStore/Home/asfj/LEN/logic_explained_networks/examples/api_examples/../../lens/__init__.py:2\u001b[0m\n\u001b[1;32m      1\u001b[0m \u001b[38;5;28;01mfrom\u001b[39;00m \u001b[38;5;21;01m.\u001b[39;00m \u001b[38;5;28;01mimport\u001b[39;00m utils\n\u001b[0;32m----> 2\u001b[0m \u001b[38;5;28;01mfrom\u001b[39;00m \u001b[38;5;21;01m.\u001b[39;00m \u001b[38;5;28;01mimport\u001b[39;00m models\n\u001b[1;32m      3\u001b[0m \u001b[38;5;28;01mfrom\u001b[39;00m \u001b[38;5;21;01m.\u001b[39;00m \u001b[38;5;28;01mimport\u001b[39;00m logic\n\u001b[1;32m      4\u001b[0m \u001b[38;5;28;01mfrom\u001b[39;00m \u001b[38;5;21;01m.\u001b[39;00m \u001b[38;5;28;01mimport\u001b[39;00m utils\n",
      "File \u001b[0;32m/net/fs-2/scale/OrionStore/Home/asfj/LEN/logic_explained_networks/examples/api_examples/../../lens/models/__init__.py:1\u001b[0m\n\u001b[0;32m----> 1\u001b[0m \u001b[38;5;28;01mfrom\u001b[39;00m \u001b[38;5;21;01m.\u001b[39;00m\u001b[38;5;21;01mpsi_nn\u001b[39;00m \u001b[38;5;28;01mimport\u001b[39;00m XPsiNetwork\n\u001b[1;32m      2\u001b[0m \u001b[38;5;28;01mfrom\u001b[39;00m \u001b[38;5;21;01m.\u001b[39;00m\u001b[38;5;21;01mrelu_nn\u001b[39;00m \u001b[38;5;28;01mimport\u001b[39;00m XReluNN\n\u001b[1;32m      3\u001b[0m \u001b[38;5;28;01mfrom\u001b[39;00m \u001b[38;5;21;01m.\u001b[39;00m\u001b[38;5;21;01mmu_nn\u001b[39;00m \u001b[38;5;28;01mimport\u001b[39;00m XMuNN\n",
      "File \u001b[0;32m/net/fs-2/scale/OrionStore/Home/asfj/LEN/logic_explained_networks/examples/api_examples/../../lens/models/psi_nn.py:5\u001b[0m\n\u001b[1;32m      1\u001b[0m \u001b[38;5;28;01mimport\u001b[39;00m \u001b[38;5;21;01mtime\u001b[39;00m\n\u001b[1;32m      3\u001b[0m \u001b[38;5;28;01mimport\u001b[39;00m \u001b[38;5;21;01mtorch\u001b[39;00m\n\u001b[0;32m----> 5\u001b[0m \u001b[38;5;28;01mfrom\u001b[39;00m \u001b[38;5;21;01m.\u001b[39;00m\u001b[38;5;21;01mbase\u001b[39;00m \u001b[38;5;28;01mimport\u001b[39;00m BaseClassifier, BaseXModel\n\u001b[1;32m      6\u001b[0m \u001b[38;5;28;01mfrom\u001b[39;00m \u001b[38;5;21;01m.\u001b[39;00m\u001b[38;5;21;01m.\u001b[39;00m\u001b[38;5;21;01mlogic\u001b[39;00m\u001b[38;5;21;01m.\u001b[39;00m\u001b[38;5;21;01mpsi_nn\u001b[39;00m \u001b[38;5;28;01mimport\u001b[39;00m generate_fol_explanations, generate_fol_explanations_from_data\n\u001b[1;32m      7\u001b[0m \u001b[38;5;28;01mfrom\u001b[39;00m \u001b[38;5;21;01m.\u001b[39;00m\u001b[38;5;21;01m.\u001b[39;00m\u001b[38;5;21;01mutils\u001b[39;00m\u001b[38;5;21;01m.\u001b[39;00m\u001b[38;5;21;01mbase\u001b[39;00m \u001b[38;5;28;01mimport\u001b[39;00m NotAvailableError\n",
      "File \u001b[0;32m/net/fs-2/scale/OrionStore/Home/asfj/LEN/logic_explained_networks/examples/api_examples/../../lens/models/base.py:12\u001b[0m\n\u001b[1;32m      9\u001b[0m \u001b[38;5;28;01mfrom\u001b[39;00m \u001b[38;5;21;01mtorch\u001b[39;00m\u001b[38;5;21;01m.\u001b[39;00m\u001b[38;5;21;01moptim\u001b[39;00m\u001b[38;5;21;01m.\u001b[39;00m\u001b[38;5;21;01mlr_scheduler\u001b[39;00m \u001b[38;5;28;01mimport\u001b[39;00m ReduceLROnPlateau\n\u001b[1;32m     10\u001b[0m \u001b[38;5;28;01mfrom\u001b[39;00m \u001b[38;5;21;01mtorch\u001b[39;00m\u001b[38;5;21;01m.\u001b[39;00m\u001b[38;5;21;01mutils\u001b[39;00m\u001b[38;5;21;01m.\u001b[39;00m\u001b[38;5;21;01mdata\u001b[39;00m \u001b[38;5;28;01mimport\u001b[39;00m Dataset, DataLoader\n\u001b[0;32m---> 12\u001b[0m \u001b[38;5;28;01mfrom\u001b[39;00m \u001b[38;5;21;01mlens\u001b[39;00m\u001b[38;5;21;01m.\u001b[39;00m\u001b[38;5;21;01mutils\u001b[39;00m\u001b[38;5;21;01m.\u001b[39;00m\u001b[38;5;21;01mbase\u001b[39;00m \u001b[38;5;28;01mimport\u001b[39;00m ClassifierNotTrainedError, IncompatibleClassifierError\n\u001b[1;32m     13\u001b[0m \u001b[38;5;28;01mfrom\u001b[39;00m \u001b[38;5;21;01mlens\u001b[39;00m\u001b[38;5;21;01m.\u001b[39;00m\u001b[38;5;21;01mutils\u001b[39;00m\u001b[38;5;21;01m.\u001b[39;00m\u001b[38;5;21;01mloss\u001b[39;00m \u001b[38;5;28;01mimport\u001b[39;00m MutualInformationLoss, MixedMultiLabelLoss\n\u001b[1;32m     14\u001b[0m \u001b[38;5;28;01mfrom\u001b[39;00m \u001b[38;5;21;01mlens\u001b[39;00m\u001b[38;5;21;01m.\u001b[39;00m\u001b[38;5;21;01mutils\u001b[39;00m\u001b[38;5;21;01m.\u001b[39;00m\u001b[38;5;21;01mmetrics\u001b[39;00m \u001b[38;5;28;01mimport\u001b[39;00m Metric, TopkAccuracy, Accuracy\n",
      "File \u001b[0;32m/net/fs-2/scale/OrionStore/Home/asfj/LEN/logic_explained_networks/examples/api_examples/../../lens/utils/base.py:8\u001b[0m\n\u001b[1;32m      6\u001b[0m \u001b[38;5;28;01mimport\u001b[39;00m \u001b[38;5;21;01mnumpy\u001b[39;00m \u001b[38;5;28;01mas\u001b[39;00m \u001b[38;5;21;01mnp\u001b[39;00m\n\u001b[1;32m      7\u001b[0m \u001b[38;5;28;01mfrom\u001b[39;00m \u001b[38;5;21;01msklearn\u001b[39;00m\u001b[38;5;21;01m.\u001b[39;00m\u001b[38;5;21;01mtree\u001b[39;00m \u001b[38;5;28;01mimport\u001b[39;00m _tree, DecisionTreeClassifier\n\u001b[0;32m----> 8\u001b[0m \u001b[38;5;28;01mfrom\u001b[39;00m \u001b[38;5;21;01msympy\u001b[39;00m \u001b[38;5;28;01mimport\u001b[39;00m simplify_logic\n\u001b[1;32m     10\u001b[0m \u001b[38;5;66;03m# from ..models.ext_models.brl import RuleListClassifier\u001b[39;00m\n\u001b[1;32m     13\u001b[0m \u001b[38;5;28;01mdef\u001b[39;00m \u001b[38;5;21mset_seed\u001b[39m(seed):\n",
      "\u001b[0;31mModuleNotFoundError\u001b[0m: No module named 'sympy'"
     ]
    }
   ],
   "source": [
    "import sys\n",
    "sys.path.append('../..')\n",
    "\n",
    "import torch\n",
    "import numpy as np\n",
    "import matplotlib.pyplot as plt\n",
    "\n",
    "from lens import logic\n",
    "\n",
    "torch.manual_seed(0)\n",
    "np.random.seed(0)"
   ]
  },
  {
   "cell_type": "code",
   "execution_count": null,
   "metadata": {},
   "outputs": [],
   "source": [
    "# XOR problem\n",
    "x_train = torch.tensor([\n",
    "    [0, 0],\n",
    "    [0, 1],\n",
    "    [1, 0],\n",
    "    [1, 1],\n",
    "], dtype=torch.float)\n",
    "y_train = torch.tensor([0, 1, 1, 0], dtype=torch.float).unsqueeze(1)\n",
    "\n",
    "\n",
    "x_test = torch.tensor([\n",
    "    [0, 0.95],\n",
    "    [0, 0.9],\n",
    "    [0.05, 1],\n",
    "    [0.1, 0.8],\n",
    "    [0.45, 1],\n",
    "    [0, 0.35],\n",
    "    [0.95, 0.9],\n",
    "    [0.75, 0.2],\n",
    "    [0.75, 0.15],\n",
    "], dtype=torch.float)\n",
    "y_test = torch.tensor([1, 1, 1, 1, 1, 0, 0, 1, 1], dtype=torch.float).unsqueeze(1)"
   ]
  },
  {
   "cell_type": "code",
   "execution_count": null,
   "metadata": {},
   "outputs": [],
   "source": [
    "layers = [\n",
    "    torch.nn.Linear(x_train.size(1), 10),\n",
    "    torch.nn.LeakyReLU(),\n",
    "    torch.nn.Linear(10, 4),\n",
    "    torch.nn.LeakyReLU(),\n",
    "    torch.nn.Linear(4, 1),\n",
    "    torch.nn.Sigmoid(),\n",
    "]\n",
    "model = torch.nn.Sequential(*layers)\n",
    "\n",
    "optimizer = torch.optim.Adam(model.parameters(), lr=0.01)\n",
    "model.train()\n",
    "need_pruning = True\n",
    "for epoch in range(1000):\n",
    "    # forward pass\n",
    "    optimizer.zero_grad()\n",
    "    y_pred = model(x_train)\n",
    "    # Compute Loss\n",
    "    loss = torch.nn.functional.mse_loss(y_pred, y_train)\n",
    "\n",
    "    for module in model.children():\n",
    "        if isinstance(module, torch.nn.Linear):\n",
    "            loss += 0.001 * torch.norm(module.weight, 1)\n",
    "\n",
    "    # backward pass\n",
    "    loss.backward()\n",
    "    optimizer.step()\n",
    "\n",
    "    # compute accuracy\n",
    "    if epoch % 100 == 0:\n",
    "        y_pred_d = (y_pred > 0.5)\n",
    "        accuracy = (y_pred_d.eq(y_train).sum(dim=1) == y_train.size(1)).sum().item() / y_train.size(0)\n",
    "        print(f'Epoch {epoch}: train accuracy: {accuracy:.4f}')"
   ]
  },
  {
   "cell_type": "markdown",
   "metadata": {},
   "source": [
    "# Decision boundaries"
   ]
  },
  {
   "cell_type": "code",
   "execution_count": null,
   "metadata": {},
   "outputs": [],
   "source": [
    "def plot_decision_bundaries(model, x, h=0.1, cmap='BrBG'):\n",
    "    x1_min, x1_max = x[:, 0].min() - 1, x[:, 0].max() + 1\n",
    "    x2_min, x2_max = x[:, 1].min() - 1, x[:, 1].max() + 1\n",
    "    xx1, xx2 = np.meshgrid(np.arange(x1_min, x1_max, h),\n",
    "                           np.arange(x2_min, x2_max, h))\n",
    "    xx = torch.FloatTensor(np.c_[xx1.ravel(), xx2.ravel()])\n",
    "    Z = model(xx).detach().numpy()\n",
    "    Z = Z.reshape(xx1.shape)\n",
    "    plt.contourf(xx1, xx2, Z, alpha=0.2, cmap=cmap)\n",
    "    return"
   ]
  },
  {
   "cell_type": "code",
   "execution_count": null,
   "metadata": {},
   "outputs": [],
   "source": [
    "cmap = 'BrBG'\n",
    "plt.figure(figsize=[8, 8])\n",
    "for sample_id, (xin, yin) in enumerate(zip(x_train, y_train)):\n",
    "    output = model(xin)\n",
    "    explanation = logic.relu_nn.explain_local(model, x_train, y_train,\n",
    "                                           xin, yin, method='lime', \n",
    "                                           concept_names=['f1', 'f2'])\n",
    "\n",
    "    plt.subplot(2, 2, sample_id+1)\n",
    "    plt.title(f'INPUT={xin.detach().numpy()} - OUTPUT={output.detach().numpy()} \\n Explanation: {explanation}')\n",
    "    plot_decision_bundaries(model, x_train, h=0.01)\n",
    "    plt.scatter(x_train[:, 0].detach().numpy(), x_train[:, 1].detach().numpy(), c=y_train.detach().numpy(), cmap=cmap)\n",
    "    plt.scatter(xin[0], xin[1], c='k', marker='x', s=100, cmap=cmap)\n",
    "    c = plt.Circle((xin[0], xin[1]), radius=0.2, edgecolor='k', fill=False, linestyle='--')\n",
    "    plt.gca().add_artist(c)\n",
    "    plt.xlim([-0.5, 1.5])\n",
    "    plt.ylim([-0.5, 1.5])\n",
    "plt.tight_layout()\n",
    "plt.show()"
   ]
  },
  {
   "cell_type": "markdown",
   "metadata": {},
   "source": [
    "# Combine local explanations"
   ]
  },
  {
   "cell_type": "code",
   "execution_count": null,
   "metadata": {},
   "outputs": [],
   "source": [
    "for i, target_class in enumerate(range(2)):\n",
    "    global_explanation, _, _ = logic.relu_nn.combine_local_explanations(model, x_train,\n",
    "                                                                     y_train.squeeze(), \n",
    "                                                                     target_class=target_class,\n",
    "                                                                     method='lime')\n",
    "    accuracy, preds = logic.base.test_explanation(global_explanation, target_class, x_test, y_test)\n",
    "    final_formula = logic.base.replace_names(global_explanation, ['f1', 'f2'])\n",
    "    print(f'Class {target_class} - Global explanation: \"{final_formula}\" - Accuracy: {accuracy:.4f}')"
   ]
  }
 ],
 "metadata": {
  "kernelspec": {
   "display_name": "explainn",
   "language": "python",
   "name": "explainn"
  },
  "language_info": {
   "codemirror_mode": {
    "name": "ipython",
    "version": 3
   },
   "file_extension": ".py",
   "mimetype": "text/x-python",
   "name": "python",
   "nbconvert_exporter": "python",
   "pygments_lexer": "ipython3",
   "version": "3.9.15"
  }
 },
 "nbformat": 4,
 "nbformat_minor": 4
}
