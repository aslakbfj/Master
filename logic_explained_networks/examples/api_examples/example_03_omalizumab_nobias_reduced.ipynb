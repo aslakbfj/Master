{
 "cells": [
  {
   "cell_type": "code",
   "execution_count": 1,
   "metadata": {},
   "outputs": [],
   "source": [
    "import sys\n",
    "sys.path.append('..')\n",
    "import torch\n",
    "import numpy as np\n",
    "import pandas as pd\n",
    "import matplotlib.pyplot as plt\n",
    "from sklearn.preprocessing import LabelEncoder, MinMaxScaler\n",
    "from sympy import simplify_logic\n",
    "\n",
    "from lens.utils.relu_nn import get_reduced_model, prune_features\n",
    "from lens import logic\n",
    "from lens.utils.base import collect_parameters\n",
    "\n",
    "torch.manual_seed(0)\n",
    "np.random.seed(0)"
   ]
  },
  {
   "cell_type": "code",
   "execution_count": 2,
   "metadata": {},
   "outputs": [],
   "source": [
    "gene_expression_matrix = pd.read_csv('reduced_w_1/data.csv', index_col=None, header=None)\n",
    "labels = pd.read_csv('reduced_w_1/tempLabels_W-1.csv', index_col=None, header=None)\n",
    "genes = pd.read_csv('reduced_w_1/features.csv', index_col=None, header=None)"
   ]
  },
  {
   "cell_type": "code",
   "execution_count": 3,
   "metadata": {
    "pycharm": {
     "name": "#%%\n"
    }
   },
   "outputs": [
    {
     "data": {
      "text/html": [
       "<div>\n",
       "<style scoped>\n",
       "    .dataframe tbody tr th:only-of-type {\n",
       "        vertical-align: middle;\n",
       "    }\n",
       "\n",
       "    .dataframe tbody tr th {\n",
       "        vertical-align: top;\n",
       "    }\n",
       "\n",
       "    .dataframe thead th {\n",
       "        text-align: right;\n",
       "    }\n",
       "</style>\n",
       "<table border=\"1\" class=\"dataframe\">\n",
       "  <thead>\n",
       "    <tr style=\"text-align: right;\">\n",
       "      <th></th>\n",
       "      <th>0</th>\n",
       "      <th>1</th>\n",
       "      <th>2</th>\n",
       "      <th>3</th>\n",
       "      <th>4</th>\n",
       "    </tr>\n",
       "  </thead>\n",
       "  <tbody>\n",
       "    <tr>\n",
       "      <th>0</th>\n",
       "      <td>3.320000</td>\n",
       "      <td>3.320000</td>\n",
       "      <td>3.32000</td>\n",
       "      <td>6.941536</td>\n",
       "      <td>6.590419</td>\n",
       "    </tr>\n",
       "    <tr>\n",
       "      <th>1</th>\n",
       "      <td>4.232978</td>\n",
       "      <td>3.320000</td>\n",
       "      <td>3.32000</td>\n",
       "      <td>7.279548</td>\n",
       "      <td>6.476784</td>\n",
       "    </tr>\n",
       "    <tr>\n",
       "      <th>2</th>\n",
       "      <td>3.320000</td>\n",
       "      <td>4.200609</td>\n",
       "      <td>3.32000</td>\n",
       "      <td>7.741600</td>\n",
       "      <td>4.643134</td>\n",
       "    </tr>\n",
       "    <tr>\n",
       "      <th>3</th>\n",
       "      <td>3.320000</td>\n",
       "      <td>3.320000</td>\n",
       "      <td>3.32000</td>\n",
       "      <td>7.276600</td>\n",
       "      <td>5.953452</td>\n",
       "    </tr>\n",
       "    <tr>\n",
       "      <th>4</th>\n",
       "      <td>3.320000</td>\n",
       "      <td>3.320000</td>\n",
       "      <td>3.32000</td>\n",
       "      <td>7.224628</td>\n",
       "      <td>6.555227</td>\n",
       "    </tr>\n",
       "    <tr>\n",
       "      <th>...</th>\n",
       "      <td>...</td>\n",
       "      <td>...</td>\n",
       "      <td>...</td>\n",
       "      <td>...</td>\n",
       "      <td>...</td>\n",
       "    </tr>\n",
       "    <tr>\n",
       "      <th>56</th>\n",
       "      <td>3.320000</td>\n",
       "      <td>3.320000</td>\n",
       "      <td>3.32000</td>\n",
       "      <td>7.660182</td>\n",
       "      <td>6.128603</td>\n",
       "    </tr>\n",
       "    <tr>\n",
       "      <th>57</th>\n",
       "      <td>3.320000</td>\n",
       "      <td>3.700430</td>\n",
       "      <td>3.45131</td>\n",
       "      <td>7.809826</td>\n",
       "      <td>6.153968</td>\n",
       "    </tr>\n",
       "    <tr>\n",
       "      <th>58</th>\n",
       "      <td>3.320000</td>\n",
       "      <td>3.320000</td>\n",
       "      <td>3.32000</td>\n",
       "      <td>7.580588</td>\n",
       "      <td>6.134398</td>\n",
       "    </tr>\n",
       "    <tr>\n",
       "      <th>59</th>\n",
       "      <td>4.174319</td>\n",
       "      <td>3.320000</td>\n",
       "      <td>3.32000</td>\n",
       "      <td>7.016004</td>\n",
       "      <td>7.124143</td>\n",
       "    </tr>\n",
       "    <tr>\n",
       "      <th>60</th>\n",
       "      <td>3.699251</td>\n",
       "      <td>3.320000</td>\n",
       "      <td>3.32000</td>\n",
       "      <td>7.568044</td>\n",
       "      <td>6.236546</td>\n",
       "    </tr>\n",
       "  </tbody>\n",
       "</table>\n",
       "<p>61 rows × 5 columns</p>\n",
       "</div>"
      ],
      "text/plain": [
       "           0         1        2         3         4\n",
       "0   3.320000  3.320000  3.32000  6.941536  6.590419\n",
       "1   4.232978  3.320000  3.32000  7.279548  6.476784\n",
       "2   3.320000  4.200609  3.32000  7.741600  4.643134\n",
       "3   3.320000  3.320000  3.32000  7.276600  5.953452\n",
       "4   3.320000  3.320000  3.32000  7.224628  6.555227\n",
       "..       ...       ...      ...       ...       ...\n",
       "56  3.320000  3.320000  3.32000  7.660182  6.128603\n",
       "57  3.320000  3.700430  3.45131  7.809826  6.153968\n",
       "58  3.320000  3.320000  3.32000  7.580588  6.134398\n",
       "59  4.174319  3.320000  3.32000  7.016004  7.124143\n",
       "60  3.699251  3.320000  3.32000  7.568044  6.236546\n",
       "\n",
       "[61 rows x 5 columns]"
      ]
     },
     "execution_count": 3,
     "metadata": {},
     "output_type": "execute_result"
    }
   ],
   "source": [
    "gene_expression_matrix"
   ]
  },
  {
   "cell_type": "code",
   "execution_count": 4,
   "metadata": {
    "pycharm": {
     "name": "#%%\n"
    }
   },
   "outputs": [
    {
     "data": {
      "text/html": [
       "<div>\n",
       "<style scoped>\n",
       "    .dataframe tbody tr th:only-of-type {\n",
       "        vertical-align: middle;\n",
       "    }\n",
       "\n",
       "    .dataframe tbody tr th {\n",
       "        vertical-align: top;\n",
       "    }\n",
       "\n",
       "    .dataframe thead th {\n",
       "        text-align: right;\n",
       "    }\n",
       "</style>\n",
       "<table border=\"1\" class=\"dataframe\">\n",
       "  <thead>\n",
       "    <tr style=\"text-align: right;\">\n",
       "      <th></th>\n",
       "      <th>0</th>\n",
       "    </tr>\n",
       "  </thead>\n",
       "  <tbody>\n",
       "    <tr>\n",
       "      <th>0</th>\n",
       "      <td>diagnosis: healthy control</td>\n",
       "    </tr>\n",
       "    <tr>\n",
       "      <th>1</th>\n",
       "      <td>diagnosis: healthy control</td>\n",
       "    </tr>\n",
       "    <tr>\n",
       "      <th>2</th>\n",
       "      <td>diagnosis: healthy control</td>\n",
       "    </tr>\n",
       "    <tr>\n",
       "      <th>3</th>\n",
       "      <td>diagnosis: healthy control</td>\n",
       "    </tr>\n",
       "    <tr>\n",
       "      <th>4</th>\n",
       "      <td>diagnosis: healthy control</td>\n",
       "    </tr>\n",
       "    <tr>\n",
       "      <th>...</th>\n",
       "      <td>...</td>\n",
       "    </tr>\n",
       "    <tr>\n",
       "      <th>56</th>\n",
       "      <td>omalizumab responder status: Responder</td>\n",
       "    </tr>\n",
       "    <tr>\n",
       "      <th>57</th>\n",
       "      <td>omalizumab responder status: Responder</td>\n",
       "    </tr>\n",
       "    <tr>\n",
       "      <th>58</th>\n",
       "      <td>omalizumab responder status: Responder</td>\n",
       "    </tr>\n",
       "    <tr>\n",
       "      <th>59</th>\n",
       "      <td>omalizumab responder status: Responder</td>\n",
       "    </tr>\n",
       "    <tr>\n",
       "      <th>60</th>\n",
       "      <td>omalizumab responder status: Responder</td>\n",
       "    </tr>\n",
       "  </tbody>\n",
       "</table>\n",
       "<p>61 rows × 1 columns</p>\n",
       "</div>"
      ],
      "text/plain": [
       "                                         0\n",
       "0               diagnosis: healthy control\n",
       "1               diagnosis: healthy control\n",
       "2               diagnosis: healthy control\n",
       "3               diagnosis: healthy control\n",
       "4               diagnosis: healthy control\n",
       "..                                     ...\n",
       "56  omalizumab responder status: Responder\n",
       "57  omalizumab responder status: Responder\n",
       "58  omalizumab responder status: Responder\n",
       "59  omalizumab responder status: Responder\n",
       "60  omalizumab responder status: Responder\n",
       "\n",
       "[61 rows x 1 columns]"
      ]
     },
     "execution_count": 4,
     "metadata": {},
     "output_type": "execute_result"
    }
   ],
   "source": [
    "labels"
   ]
  },
  {
   "cell_type": "code",
   "execution_count": 5,
   "metadata": {
    "pycharm": {
     "name": "#%%\n"
    }
   },
   "outputs": [
    {
     "name": "stdout",
     "output_type": "stream",
     "text": [
      "torch.Size([40, 5])\n",
      "torch.Size([40, 1])\n"
     ]
    },
    {
     "name": "stderr",
     "output_type": "stream",
     "text": [
      "c:\\users\\pietr\\anaconda3\\envs\\deep-logic\\lib\\site-packages\\sklearn\\utils\\validation.py:63: DataConversionWarning: A column-vector y was passed when a 1d array was expected. Please change the shape of y to (n_samples, ), for example using ravel().\n",
      "  return f(*args, **kwargs)\n"
     ]
    }
   ],
   "source": [
    "encoder = LabelEncoder()\n",
    "labels_encoded = encoder.fit_transform(labels.values)\n",
    "labels_encoded_noncontrols = labels_encoded[labels_encoded!=0] - 1\n",
    "\n",
    "data_controls = gene_expression_matrix[labels_encoded==0]\n",
    "data = gene_expression_matrix[labels_encoded!=0]\n",
    "\n",
    "gene_signature = data_controls.mean(axis=0)\n",
    "data_scaled = data - gene_signature\n",
    "\n",
    "scaler = MinMaxScaler((0, 1))\n",
    "scaler.fit(data_scaled)\n",
    "data_normalized = scaler.transform(data_scaled)\n",
    "\n",
    "x_train = torch.FloatTensor(data_normalized)\n",
    "y_train = torch.FloatTensor(labels_encoded_noncontrols).unsqueeze(1)\n",
    "print(x_train.shape)\n",
    "print(y_train.shape)"
   ]
  },
  {
   "cell_type": "code",
   "execution_count": 6,
   "metadata": {
    "scrolled": false
   },
   "outputs": [
    {
     "name": "stdout",
     "output_type": "stream",
     "text": [
      "Epoch 1000: train accuracy: 1.0000\n",
      "Epoch 2000: train accuracy: 1.0000\n",
      "Epoch 3000: train accuracy: 1.0000\n"
     ]
    }
   ],
   "source": [
    "torch.manual_seed(0)\n",
    "np.random.seed(0)\n",
    "device = torch.device('cuda:0' if torch.cuda.is_available() else 'cpu')\n",
    "x_train = x_train.to(device)\n",
    "y_train = y_train.to(device)\n",
    "\n",
    "layers = [\n",
    "    torch.nn.Linear(x_train.size(1), 10, bias=True),\n",
    "    torch.nn.LeakyReLU(),\n",
    "    torch.nn.Linear(10, 5, bias=True),\n",
    "    torch.nn.LeakyReLU(),\n",
    "    torch.nn.Linear(5, 1, bias=True),\n",
    "    torch.nn.Sigmoid(),\n",
    "]\n",
    "model = torch.nn.Sequential(*layers).to(device)\n",
    "\n",
    "optimizer = torch.optim.Adam(model.parameters(), lr=0.01)\n",
    "model.train()\n",
    "need_pruning = True\n",
    "for epoch in range(1, 3001):\n",
    "    # forward pass\n",
    "    optimizer.zero_grad()\n",
    "    y_pred = model(x_train)\n",
    "    # Compute Loss\n",
    "    loss = torch.nn.functional.binary_cross_entropy(y_pred, y_train)\n",
    "\n",
    "    for module in model.children():\n",
    "        if isinstance(module, torch.nn.Linear):\n",
    "            loss += 0.0 * torch.norm(module.weight, 1)\n",
    "\n",
    "    # backward pass\n",
    "    loss.backward()\n",
    "    optimizer.step()\n",
    "\n",
    "    # compute accuracy\n",
    "    if epoch % 1000 == 0:\n",
    "        y_pred_d = (y_pred > 0.5)\n",
    "        accuracy = (y_pred_d.eq(y_train).sum(dim=1) == y_train.size(1)).sum().item() / y_train.size(0)\n",
    "        print(f'Epoch {epoch}: train accuracy: {accuracy:.4f}')\n",
    "        \n",
    "    if epoch > 8000 and need_pruning and epoch % 3000 == 0:\n",
    "        prune_features(model, 1, device)\n",
    "        need_pruning = True"
   ]
  },
  {
   "cell_type": "markdown",
   "metadata": {},
   "source": [
    "## Local explanations"
   ]
  },
  {
   "cell_type": "code",
   "execution_count": 7,
   "metadata": {},
   "outputs": [
    {
     "name": "stdout",
     "output_type": "stream",
     "text": [
      "Input 1\n",
      "\tx=[1.   0.   0.06 0.55 0.07]\n",
      "\ty=[0.]\n",
      "\ty=[0.]\n",
      "\tExplanation: feature0000000000 & ~feature0000000001 & ~feature0000000002 & feature0000000003 & ~feature0000000004\n",
      "\n",
      "Input 2\n",
      "\tx=[0.13 0.89 0.35 0.49 0.47]\n",
      "\ty=[0.]\n",
      "\ty=[0.]\n",
      "\tExplanation: ~feature0000000000 & feature0000000001 & ~feature0000000002 & ~feature0000000003 & ~feature0000000004\n",
      "\n",
      "Input 3\n",
      "\tx=[0.72 0.38 0.   0.69 0.  ]\n",
      "\ty=[0.]\n",
      "\ty=[0.]\n",
      "\tExplanation: feature0000000000 & ~feature0000000001 & ~feature0000000002 & feature0000000003 & ~feature0000000004\n",
      "\n"
     ]
    }
   ],
   "source": [
    "np.set_printoptions(precision=2, suppress=True)\n",
    "outputs = []\n",
    "for i, (xin, yin) in enumerate(zip(x_train, y_train)):\n",
    "    model_reduced = get_reduced_model(model, xin.to(device), bias=False).to(device)\n",
    "    for module in model_reduced.children():\n",
    "        if isinstance(module, torch.nn.Linear):\n",
    "            wa = module.weight.cpu().detach().numpy()\n",
    "            break\n",
    "    output = model_reduced(xin)\n",
    "    \n",
    "    pred_class = torch.argmax(output)\n",
    "    true_class = torch.argmax(y_train[i])\n",
    "\n",
    "    # generate local explanation only if the prediction is correct\n",
    "    if pred_class.eq(true_class):\n",
    "        local_explanation = logic.relu_nn.explain_local(model.to(device), x_train, y_train, xin, yin, device=device)\n",
    "        print(f'Input {(i+1)}')\n",
    "        print(f'\\tx={xin.cpu().detach().numpy()}')\n",
    "        print(f'\\ty={y_train[i].cpu().detach().numpy()}')\n",
    "        print(f'\\ty={output.cpu().detach().numpy()}')\n",
    "        #print(f'\\tw={wa}')\n",
    "        print(f'\\tExplanation: {local_explanation}')\n",
    "        print()\n",
    "    outputs.append(output)\n",
    "    if i > 1:\n",
    "        break"
   ]
  },
  {
   "cell_type": "markdown",
   "metadata": {},
   "source": [
    "# Combine local explanations"
   ]
  },
  {
   "cell_type": "code",
   "execution_count": 8,
   "metadata": {
    "scrolled": true
   },
   "outputs": [
    {
     "name": "stdout",
     "output_type": "stream",
     "text": [
      "Accuracy of when using the formula \"(~feature0000000000 & ~feature0000000001 & ~feature0000000002) | (feature0000000000 & feature0000000004 & ~feature0000000002 & ~feature0000000003) | (feature0000000003 & feature0000000004 & ~feature0000000000 & ~feature0000000001) | (feature0000000003 & feature0000000004 & ~feature0000000000 & ~feature0000000002) | (feature0000000003 & ~feature0000000001 & ~feature0000000002 & ~feature0000000004) | (~feature0000000000 & ~feature0000000002 & ~feature0000000003 & ~feature0000000004)\": 0.7750\n"
     ]
    }
   ],
   "source": [
    "global_explanation, predictions, counter = logic.combine_local_explanations(model, x=x_train, y=y_train, \n",
    "                                                                          target_class=0,\n",
    "                                                                          topk_explanations=10, device=device)\n",
    "\n",
    "ynp = y_train.cpu().detach().numpy()[:, 0]\n",
    "accuracy = np.sum(predictions == ynp) / len(ynp)\n",
    "print(f'Accuracy of when using the formula \"{global_explanation}\": {accuracy:.4f}')"
   ]
  },
  {
   "cell_type": "code",
   "execution_count": 9,
   "metadata": {},
   "outputs": [
    {
     "name": "stdout",
     "output_type": "stream",
     "text": [
      "Class 0 - Global explanation: \"(feature0000000004 & ~feature0000000000 & ~feature0000000002) | (~feature0000000000 & ~feature0000000001 & ~feature0000000002) | (~feature0000000000 & ~feature0000000002 & ~feature0000000003) | (feature0000000004 & ~feature0000000001 & ~feature0000000002 & ~feature0000000003)\" - Accuracy: 0.9250\n"
     ]
    }
   ],
   "source": [
    "global_explanation = logic.relu_nn.explain_global(model, n_classes=1, target_class=0, device=device)\n",
    "explanation = logic.relu_nn.explain_global(model, n_classes=1, target_class=0, device=device)\n",
    "if explanation not in ['False', 'True', 'The formula is too complex!']:\n",
    "    accuracy, _ = logic.relu_nn.test_explanation(explanation, target_class=0, x=x_train.cpu(), y=y_train.cpu())\n",
    "    print(f'Class {0} - Global explanation: \"{global_explanation}\" - Accuracy: {accuracy:.4f}')"
   ]
  },
  {
   "cell_type": "code",
   "execution_count": 10,
   "metadata": {},
   "outputs": [
    {
     "data": {
      "text/html": [
       "<div>\n",
       "<style scoped>\n",
       "    .dataframe tbody tr th:only-of-type {\n",
       "        vertical-align: middle;\n",
       "    }\n",
       "\n",
       "    .dataframe tbody tr th {\n",
       "        vertical-align: top;\n",
       "    }\n",
       "\n",
       "    .dataframe thead th {\n",
       "        text-align: right;\n",
       "    }\n",
       "</style>\n",
       "<table border=\"1\" class=\"dataframe\">\n",
       "  <thead>\n",
       "    <tr style=\"text-align: right;\">\n",
       "      <th></th>\n",
       "      <th>0</th>\n",
       "    </tr>\n",
       "  </thead>\n",
       "  <tbody>\n",
       "    <tr>\n",
       "      <th>0</th>\n",
       "      <td>ILMN_3286286</td>\n",
       "    </tr>\n",
       "    <tr>\n",
       "      <th>1</th>\n",
       "      <td>ILMN_1775520</td>\n",
       "    </tr>\n",
       "    <tr>\n",
       "      <th>2</th>\n",
       "      <td>ILMN_1656849</td>\n",
       "    </tr>\n",
       "    <tr>\n",
       "      <th>3</th>\n",
       "      <td>ILMN_1781198</td>\n",
       "    </tr>\n",
       "    <tr>\n",
       "      <th>4</th>\n",
       "      <td>ILMN_1665457</td>\n",
       "    </tr>\n",
       "  </tbody>\n",
       "</table>\n",
       "</div>"
      ],
      "text/plain": [
       "              0\n",
       "0  ILMN_3286286\n",
       "1  ILMN_1775520\n",
       "2  ILMN_1656849\n",
       "3  ILMN_1781198\n",
       "4  ILMN_1665457"
      ]
     },
     "execution_count": 10,
     "metadata": {},
     "output_type": "execute_result"
    }
   ],
   "source": [
    "w, b = collect_parameters(model, device)\n",
    "feature_weights = w[0]\n",
    "feature_used_bool = np.sum(np.abs(feature_weights), axis=0) > 0\n",
    "feature_used = np.nonzero(feature_used_bool)[0]\n",
    "genes.iloc[feature_used]"
   ]
  },
  {
   "cell_type": "markdown",
   "metadata": {},
   "source": [
    "ILMN_3286286, ILMN_1775520, ILMN_1656849, ILMN_1781198, ILMN_1665457"
   ]
  },
  {
   "cell_type": "code",
   "execution_count": 11,
   "metadata": {},
   "outputs": [
    {
     "data": {
      "text/plain": [
       "0.25"
      ]
     },
     "execution_count": 11,
     "metadata": {},
     "output_type": "execute_result"
    }
   ],
   "source": [
    "sum(y_train == 0).item() / len(y_train)"
   ]
  }
 ],
 "metadata": {
  "kernelspec": {
   "display_name": "Python 3",
   "language": "python",
   "name": "python3"
  },
  "language_info": {
   "codemirror_mode": {
    "name": "ipython",
    "version": 3
   },
   "file_extension": ".py",
   "mimetype": "text/x-python",
   "name": "python",
   "nbconvert_exporter": "python",
   "pygments_lexer": "ipython3",
   "version": "3.8.5"
  },
  "pycharm": {
   "stem_cell": {
    "cell_type": "raw",
    "metadata": {
     "collapsed": false
    },
    "source": []
   }
  }
 },
 "nbformat": 4,
 "nbformat_minor": 1
}
