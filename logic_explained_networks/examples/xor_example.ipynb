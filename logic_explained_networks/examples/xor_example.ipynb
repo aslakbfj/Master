{
 "cells": [
  {
   "cell_type": "markdown",
   "metadata": {},
   "source": [
    "## Import LENs"
   ]
  },
  {
   "cell_type": "code",
   "execution_count": 1,
   "metadata": {
    "pycharm": {
     "name": "#%%\n"
    }
   },
   "outputs": [
    {
     "ename": "ModuleNotFoundError",
     "evalue": "No module named 'lens'",
     "output_type": "error",
     "traceback": [
      "\u001b[1;31m---------------------------------------------------------------------------\u001b[0m",
      "\u001b[1;31mModuleNotFoundError\u001b[0m                       Traceback (most recent call last)",
      "Input \u001b[1;32mIn [1]\u001b[0m, in \u001b[0;36m<cell line: 1>\u001b[1;34m()\u001b[0m\n\u001b[1;32m----> 1\u001b[0m \u001b[38;5;28;01mimport\u001b[39;00m \u001b[38;5;21;01mlens\u001b[39;00m\n\u001b[0;32m      2\u001b[0m \u001b[38;5;28;01mimport\u001b[39;00m \u001b[38;5;21;01mtorch\u001b[39;00m\n",
      "\u001b[1;31mModuleNotFoundError\u001b[0m: No module named 'lens'"
     ]
    }
   ],
   "source": [
    "import lens\n",
    "import torch"
   ]
  },
  {
   "cell_type": "markdown",
   "metadata": {},
   "source": [
    "## Create train, validation and test datasets\n",
    "Let's create a XOR-like datasets with 2 redundant features (the 3rd and 4th)."
   ]
  },
  {
   "cell_type": "code",
   "execution_count": 1,
   "metadata": {
    "pycharm": {
     "name": "#%%\n"
    }
   },
   "outputs": [
    {
     "ename": "NameError",
     "evalue": "name 'lens' is not defined",
     "output_type": "error",
     "traceback": [
      "\u001b[1;31m---------------------------------------------------------------------------\u001b[0m",
      "\u001b[1;31mNameError\u001b[0m                                 Traceback (most recent call last)",
      "Input \u001b[1;32mIn [1]\u001b[0m, in \u001b[0;36m<cell line: 1>\u001b[1;34m()\u001b[0m\n\u001b[1;32m----> 1\u001b[0m \u001b[43mlens\u001b[49m\u001b[38;5;241m.\u001b[39mutils\u001b[38;5;241m.\u001b[39mbase\u001b[38;5;241m.\u001b[39mset_seed(\u001b[38;5;241m0\u001b[39m)\n\u001b[0;32m      2\u001b[0m x \u001b[38;5;241m=\u001b[39m torch\u001b[38;5;241m.\u001b[39mrand([\u001b[38;5;241m100\u001b[39m, \u001b[38;5;241m4\u001b[39m])\n\u001b[0;32m      3\u001b[0m y \u001b[38;5;241m=\u001b[39m (x[:, \u001b[38;5;241m0\u001b[39m] \u001b[38;5;241m>\u001b[39m \u001b[38;5;241m0.5\u001b[39m) \u001b[38;5;241m&\u001b[39m (x[:, \u001b[38;5;241m1\u001b[39m] \u001b[38;5;241m<\u001b[39m \u001b[38;5;241m0.5\u001b[39m) \u001b[38;5;241m|\u001b[39m \\\n\u001b[0;32m      4\u001b[0m     (x[:, \u001b[38;5;241m0\u001b[39m] \u001b[38;5;241m<\u001b[39m \u001b[38;5;241m0.5\u001b[39m) \u001b[38;5;241m&\u001b[39m (x[:, \u001b[38;5;241m1\u001b[39m] \u001b[38;5;241m>\u001b[39m \u001b[38;5;241m0.5\u001b[39m)\n",
      "\u001b[1;31mNameError\u001b[0m: name 'lens' is not defined"
     ]
    }
   ],
   "source": [
    "lens.utils.base.set_seed(0)\n",
    "x = torch.rand([100, 4])\n",
    "y = (x[:, 0] > 0.5) & (x[:, 1] < 0.5) | \\\n",
    "    (x[:, 0] < 0.5) & (x[:, 1] > 0.5)\n",
    "\n",
    "data = torch.utils.data.TensorDataset(x, y)\n",
    "\n",
    "train_data, val_data, test_data = torch.utils.data.random_split(data, [80, 10, 10])\n",
    "x_train, y_train = data[train_data.indices]\n",
    "x_val, y_val = data[val_data.indices]\n",
    "x_test, y_test = data[test_data.indices]"
   ]
  },
  {
   "cell_type": "markdown",
   "metadata": {},
   "source": [
    "## Instantiate a GeneralNN"
   ]
  },
  {
   "cell_type": "code",
   "execution_count": 3,
   "metadata": {
    "pycharm": {
     "name": "#%%\n"
    }
   },
   "outputs": [],
   "source": [
    "model = lens.models.XMuNN(n_classes=2, n_features=4,\n",
    "                               hidden_neurons=[10], loss=torch.nn.CrossEntropyLoss())"
   ]
  },
  {
   "cell_type": "markdown",
   "metadata": {},
   "source": [
    "## Train the model"
   ]
  },
  {
   "cell_type": "code",
   "execution_count": 4,
   "metadata": {
    "pycharm": {
     "name": "#%%\n"
    }
   },
   "outputs": [
    {
     "name": "stdout",
     "output_type": "stream",
     "text": [
      "Epoch: 1/100, Loss: 0.733, Tr_acc: 46.88, Val_acc: 53.00, best_e: -1\n",
      "Epoch: 2/100, Loss: 0.733, Tr_acc: 53.12, Val_acc: 53.00, best_e: -1\n",
      "Epoch: 3/100, Loss: 0.706, Tr_acc: 53.12, Val_acc: 65.00, best_e: -1\n",
      "Epoch: 4/100, Loss: 0.696, Tr_acc: 58.50, Val_acc: 46.00, best_e: -1\n",
      "Epoch: 5/100, Loss: 0.700, Tr_acc: 45.25, Val_acc: 43.00, best_e: -1\n",
      "Epoch: 6/100, Loss: 0.698, Tr_acc: 42.25, Val_acc: 64.00, best_e: -1\n",
      "Epoch: 7/100, Loss: 0.694, Tr_acc: 62.50, Val_acc: 53.00, best_e: -1\n",
      "Epoch: 8/100, Loss: 0.694, Tr_acc: 53.12, Val_acc: 55.00, best_e: -1\n",
      "Epoch: 9/100, Loss: 0.691, Tr_acc: 55.88, Val_acc: 65.00, best_e: -1\n",
      "Epoch: 10/100, Loss: 0.687, Tr_acc: 62.25, Val_acc: 63.00, best_e: -1\n",
      "Epoch: 11/100, Loss: 0.682, Tr_acc: 63.38, Val_acc: 58.00, best_e: -1\n",
      "Epoch: 12/100, Loss: 0.678, Tr_acc: 62.50, Val_acc: 61.00, best_e: -1\n",
      "Epoch: 13/100, Loss: 0.673, Tr_acc: 66.12, Val_acc: 70.00, best_e: -1\n",
      "Epoch: 14/100, Loss: 0.664, Tr_acc: 71.50, Val_acc: 72.00, best_e: -1\n",
      "Epoch: 15/100, Loss: 0.654, Tr_acc: 75.00, Val_acc: 74.00, best_e: -1\n",
      "Epoch: 16/100, Loss: 0.643, Tr_acc: 74.75, Val_acc: 74.00, best_e: -1\n",
      "Epoch: 17/100, Loss: 0.628, Tr_acc: 75.12, Val_acc: 73.00, best_e: -1\n",
      "Epoch: 18/100, Loss: 0.612, Tr_acc: 74.75, Val_acc: 73.00, best_e: -1\n",
      "Epoch: 19/100, Loss: 0.594, Tr_acc: 78.38, Val_acc: 77.00, best_e: -1\n",
      "Epoch: 20/100, Loss: 0.574, Tr_acc: 81.38, Val_acc: 81.00, best_e: -1\n",
      "Epoch: 21/100, Loss: 0.553, Tr_acc: 81.88, Val_acc: 82.00, best_e: -1\n",
      "Epoch: 22/100, Loss: 0.529, Tr_acc: 82.50, Val_acc: 81.00, best_e: -1\n",
      "Epoch: 23/100, Loss: 0.504, Tr_acc: 83.12, Val_acc: 78.00, best_e: -1\n",
      "Epoch: 24/100, Loss: 0.481, Tr_acc: 81.88, Val_acc: 81.00, best_e: -1\n",
      "Epoch: 25/100, Loss: 0.456, Tr_acc: 83.50, Val_acc: 83.00, best_e: -1\n",
      "Epoch: 26/100, Loss: 0.430, Tr_acc: 84.88, Val_acc: 87.00, best_e: -1\n",
      "Epoch: 27/100, Loss: 0.407, Tr_acc: 85.88, Val_acc: 89.00, best_e: -1\n",
      "Epoch: 28/100, Loss: 0.384, Tr_acc: 86.50, Val_acc: 88.00, best_e: -1\n",
      "Epoch: 29/100, Loss: 0.362, Tr_acc: 86.62, Val_acc: 88.00, best_e: -1\n",
      "Epoch: 30/100, Loss: 0.341, Tr_acc: 86.75, Val_acc: 89.00, best_e: -1\n",
      "Epoch: 31/100, Loss: 0.321, Tr_acc: 88.25, Val_acc: 89.00, best_e: -1\n",
      "Epoch: 32/100, Loss: 0.304, Tr_acc: 88.62, Val_acc: 89.00, best_e: -1\n",
      "Epoch: 33/100, Loss: 0.287, Tr_acc: 88.75, Val_acc: 90.00, best_e: -1\n",
      "Epoch: 34/100, Loss: 0.271, Tr_acc: 89.75, Val_acc: 87.00, best_e: -1\n",
      "Epoch: 35/100, Loss: 0.259, Tr_acc: 90.12, Val_acc: 90.00, best_e: -1\n",
      "Epoch: 36/100, Loss: 0.249, Tr_acc: 90.75, Val_acc: 88.00, best_e: -1\n",
      "Epoch: 37/100, Loss: 0.235, Tr_acc: 91.12, Val_acc: 89.00, best_e: -1\n",
      "Epoch: 38/100, Loss: 0.222, Tr_acc: 92.00, Val_acc: 89.00, best_e: -1\n",
      "Epoch: 39/100, Loss: 0.214, Tr_acc: 92.00, Val_acc: 90.00, best_e: -1\n",
      "Epoch: 40/100, Loss: 0.204, Tr_acc: 92.50, Val_acc: 91.00, best_e: -1\n",
      "Epoch: 41/100, Loss: 0.193, Tr_acc: 92.62, Val_acc: 92.00, best_e: -1\n",
      "Epoch: 42/100, Loss: 0.187, Tr_acc: 93.25, Val_acc: 91.00, best_e: -1\n",
      "Epoch: 43/100, Loss: 0.178, Tr_acc: 94.50, Val_acc: 91.00, best_e: -1\n",
      "Epoch: 44/100, Loss: 0.169, Tr_acc: 94.12, Val_acc: 92.00, best_e: -1\n",
      "Epoch: 45/100, Loss: 0.164, Tr_acc: 94.62, Val_acc: 91.00, best_e: -1\n",
      "Epoch: 46/100, Loss: 0.156, Tr_acc: 95.88, Val_acc: 92.00, best_e: -1\n",
      "Epoch: 47/100, Loss: 0.149, Tr_acc: 96.00, Val_acc: 92.00, best_e: -1\n",
      "Epoch: 48/100, Loss: 0.144, Tr_acc: 97.12, Val_acc: 93.00, best_e: -1\n",
      "Epoch: 49/100, Loss: 0.139, Tr_acc: 97.12, Val_acc: 93.00, best_e: -1\n",
      "Pruned 2/4 features\n",
      "Pruned 2/4 features\n",
      "Pruned features\n",
      "Epoch: 50/100, Loss: 0.133, Tr_acc: 97.62, Val_acc: 93.00, best_e: -1\n",
      "Epoch: 51/100, Loss: 0.140, Tr_acc: 94.62, Val_acc: 78.00, best_e: 51\n",
      "Epoch: 52/100, Loss: 0.363, Tr_acc: 81.88, Val_acc: 90.00, best_e: 52\n",
      "Epoch: 53/100, Loss: 0.146, Tr_acc: 95.62, Val_acc: 92.00, best_e: 53\n",
      "Epoch: 54/100, Loss: 0.165, Tr_acc: 92.00, Val_acc: 88.00, best_e: 53\n",
      "Epoch: 55/100, Loss: 0.237, Tr_acc: 86.75, Val_acc: 89.00, best_e: 53\n",
      "Epoch: 56/100, Loss: 0.214, Tr_acc: 88.12, Val_acc: 93.00, best_e: 56\n",
      "Epoch: 57/100, Loss: 0.152, Tr_acc: 92.50, Val_acc: 92.00, best_e: 56\n",
      "Epoch: 58/100, Loss: 0.126, Tr_acc: 97.62, Val_acc: 91.00, best_e: 56\n",
      "Epoch: 59/100, Loss: 0.149, Tr_acc: 95.38, Val_acc: 89.00, best_e: 56\n",
      "Epoch: 60/100, Loss: 0.177, Tr_acc: 92.00, Val_acc: 89.00, best_e: 56\n",
      "Epoch: 61/100, Loss: 0.172, Tr_acc: 92.62, Val_acc: 92.00, best_e: 56\n",
      "Epoch: 62/100, Loss: 0.144, Tr_acc: 95.25, Val_acc: 93.00, best_e: 62\n",
      "Epoch: 63/100, Loss: 0.124, Tr_acc: 97.88, Val_acc: 96.00, best_e: 63\n",
      "Epoch: 64/100, Loss: 0.126, Tr_acc: 96.50, Val_acc: 94.00, best_e: 63\n",
      "Epoch: 65/100, Loss: 0.142, Tr_acc: 93.62, Val_acc: 92.00, best_e: 63\n",
      "Epoch: 66/100, Loss: 0.150, Tr_acc: 92.88, Val_acc: 94.00, best_e: 63\n",
      "Epoch: 67/100, Loss: 0.141, Tr_acc: 93.50, Val_acc: 94.00, best_e: 63\n",
      "Epoch: 68/100, Loss: 0.126, Tr_acc: 95.88, Val_acc: 97.00, best_e: 68\n",
      "Epoch: 69/100, Loss: 0.117, Tr_acc: 98.62, Val_acc: 93.00, best_e: 68\n",
      "Epoch: 70/100, Loss: 0.121, Tr_acc: 98.00, Val_acc: 92.00, best_e: 68\n",
      "Epoch: 71/100, Loss: 0.130, Tr_acc: 96.12, Val_acc: 92.00, best_e: 68\n",
      "Epoch: 72/100, Loss: 0.131, Tr_acc: 95.88, Val_acc: 92.00, best_e: 68\n",
      "Epoch: 73/100, Loss: 0.123, Tr_acc: 97.25, Val_acc: 95.00, best_e: 68\n",
      "Epoch: 74/100, Loss: 0.114, Tr_acc: 98.25, Val_acc: 98.00, best_e: 74\n",
      "Epoch: 75/100, Loss: 0.113, Tr_acc: 98.38, Val_acc: 95.00, best_e: 74\n",
      "Epoch: 76/100, Loss: 0.117, Tr_acc: 96.38, Val_acc: 94.00, best_e: 74\n",
      "Epoch: 77/100, Loss: 0.120, Tr_acc: 95.75, Val_acc: 95.00, best_e: 74\n",
      "Epoch: 78/100, Loss: 0.118, Tr_acc: 96.25, Val_acc: 97.00, best_e: 74\n",
      "Epoch: 79/100, Loss: 0.112, Tr_acc: 97.75, Val_acc: 99.00, best_e: 79\n",
      "Epoch: 80/100, Loss: 0.109, Tr_acc: 99.12, Val_acc: 97.00, best_e: 79\n",
      "Epoch: 81/100, Loss: 0.110, Tr_acc: 98.38, Val_acc: 94.00, best_e: 79\n",
      "Epoch: 82/100, Loss: 0.113, Tr_acc: 97.88, Val_acc: 96.00, best_e: 79\n",
      "Epoch: 83/100, Loss: 0.112, Tr_acc: 97.75, Val_acc: 97.00, best_e: 79\n",
      "Epoch: 84/100, Loss: 0.108, Tr_acc: 98.50, Val_acc: 99.00, best_e: 84\n",
      "Epoch: 85/100, Loss: 0.105, Tr_acc: 99.25, Val_acc: 98.00, best_e: 84\n",
      "Epoch: 86/100, Loss: 0.106, Tr_acc: 98.25, Val_acc: 96.00, best_e: 84\n",
      "Epoch: 87/100, Loss: 0.107, Tr_acc: 97.75, Val_acc: 97.00, best_e: 84\n",
      "Epoch: 88/100, Loss: 0.106, Tr_acc: 97.75, Val_acc: 98.00, best_e: 84\n",
      "Epoch: 89/100, Loss: 0.104, Tr_acc: 98.25, Val_acc: 99.00, best_e: 89\n",
      "Epoch: 90/100, Loss: 0.102, Tr_acc: 99.12, Val_acc: 96.00, best_e: 89\n",
      "Epoch: 91/100, Loss: 0.102, Tr_acc: 98.50, Val_acc: 97.00, best_e: 89\n",
      "Epoch: 92/100, Loss: 0.103, Tr_acc: 98.38, Val_acc: 97.00, best_e: 89\n",
      "Epoch: 93/100, Loss: 0.102, Tr_acc: 98.50, Val_acc: 97.00, best_e: 89\n",
      "Epoch: 94/100, Loss: 0.100, Tr_acc: 99.00, Val_acc: 98.00, best_e: 89\n",
      "Epoch: 95/100, Loss: 0.099, Tr_acc: 98.88, Val_acc: 98.00, best_e: 89\n",
      "Epoch: 96/100, Loss: 0.099, Tr_acc: 98.12, Val_acc: 98.00, best_e: 89\n",
      "Epoch: 97/100, Loss: 0.099, Tr_acc: 98.12, Val_acc: 98.00, best_e: 89\n",
      "Epoch: 98/100, Loss: 0.098, Tr_acc: 98.38, Val_acc: 98.00, best_e: 89\n",
      "Epoch: 99/100, Loss: 0.097, Tr_acc: 98.88, Val_acc: 97.00, best_e: 89\n",
      "Epoch: 100/100, Loss: 0.096, Tr_acc: 98.75, Val_acc: 97.00, best_e: 89\n",
      "Test accuracy: 99.0\n"
     ]
    },
    {
     "name": "stderr",
     "output_type": "stream",
     "text": [
      "C:\\Users\\owl\\Documents\\Scuola\\3_Dottorato\\Codice\\LENs\\lens\\models\\base.py:348: UserWarning: Loaded model does not have time or explanations. They need to be recalculated but time will only consider rule extraction time.\n",
      "  warnings.warn(\"Loaded model does not have time or explanations. \"\n"
     ]
    }
   ],
   "source": [
    "model.fit(train_data, val_data, epochs=100, l_r=0.1)\n",
    "\n",
    "## get accuracy on test samples\n",
    "test_acc = model.evaluate(test_data)\n",
    "print(\"Test accuracy:\", test_acc)"
   ]
  },
  {
   "cell_type": "markdown",
   "metadata": {},
   "source": [
    "## Extract and evaluate global explanation"
   ]
  },
  {
   "cell_type": "code",
   "execution_count": 5,
   "metadata": {
    "pycharm": {
     "name": "#%%\n"
    }
   },
   "outputs": [
    {
     "name": "stdout",
     "output_type": "stream",
     "text": [
      "(x1 & ~x2) | (x2 & ~x1) <-> f1\n",
      "Logic Test Accuracy: 100.0\n"
     ]
    }
   ],
   "source": [
    "## get first order logic explanations for a specific target class\n",
    "target_class = 1\n",
    "concept_names = ['x1', 'x2', 'x3', 'x4']\n",
    "formula = model.get_global_explanation(x_train, y_train, target_class,\n",
    "                                       top_k_explanations=2, concept_names=concept_names)\n",
    "print(f\"{formula} <-> f{target_class}\")\n",
    "\n",
    "## compute explanation accuracy\n",
    "exp_accuracy, _ = lens.logic.test_explanation(formula, target_class, x_test, y_test,\n",
    "                                              concept_names=concept_names)\n",
    "print(\"Logic Test Accuracy:\", exp_accuracy)"
   ]
  },
  {
   "cell_type": "markdown",
   "metadata": {},
   "source": [
    "## Plot decision boundaries and explanations"
   ]
  },
  {
   "cell_type": "code",
   "execution_count": 6,
   "metadata": {
    "pycharm": {
     "name": "#%%\n"
    }
   },
   "outputs": [],
   "source": [
    "import numpy as np\n",
    "import matplotlib.pyplot as plt\n",
    "\n",
    "\n",
    "def plot_decision_bundaries(model, x, h=0.1, cmap='BrBG'):\n",
    "    x1_min, x1_max = x[:, 0].min() - 1, x[:, 0].max() + 1\n",
    "    x2_min, x2_max = x[:, 1].min() - 1, x[:, 1].max() + 1\n",
    "    xx1, xx2 = np.meshgrid(np.arange(x1_min, x1_max, h),\n",
    "                           np.arange(x2_min, x2_max, h))\n",
    "    xx = torch.FloatTensor(np.c_[xx1.ravel(), xx2.ravel(), xx1.ravel(), xx2.ravel()])\n",
    "    Z = model(xx).argmax(dim=1).detach().numpy()\n",
    "    Z = Z.reshape(xx1.shape)\n",
    "    plt.contourf(xx1, xx2, Z, alpha=0.2, cmap=cmap)\n",
    "    return\n"
   ]
  },
  {
   "cell_type": "code",
   "execution_count": 7,
   "metadata": {
    "pycharm": {
     "name": "#%%\n"
    }
   },
   "outputs": [
    {
     "data": {
      "image/png": "[encoded data removed]",
      "text/plain": [
       "<Figure size 576x576 with 4 Axes>"
      ]
     },
     "metadata": {
      "needs_background": "light"
     },
     "output_type": "display_data"
    }
   ],
   "source": [
    "x = torch.as_tensor([[0.0, 0.0, 0.0, 0.0],\n",
    "                     [1.0, 0.0, 0.0, 0.0],\n",
    "                     [0.0, 1.0, 0.0, 0.0],\n",
    "                     [1.0, 1.0, 0.0, 0.0]])\n",
    "y = torch.as_tensor([0, 1, 1, 0])\n",
    "cmap = 'BrBG'\n",
    "plt.figure(figsize=[8, 8])\n",
    "for sample_id, (xin, yin) in enumerate(zip(x, y)):\n",
    "    output = model(xin.unsqueeze(dim=0))\n",
    "    explanation = model.get_local_explanation(x_train, y_train, xin, yin,\n",
    "                                              concept_names=concept_names)\n",
    "\n",
    "    plt.subplot(2, 2, sample_id + 1)\n",
    "    plt.title(f'INPUT={xin[:2].detach().numpy()} - OUTPUT={output.argmax(dim=1).detach().numpy()} '\n",
    "              f'\\n Explanation: {explanation} -> f{output.argmax()}')\n",
    "    plot_decision_bundaries(model, x, h=0.01)\n",
    "    plt.scatter(x[:, 0].detach().numpy(), x[:, 1].detach().numpy(), c=y.detach().numpy(), cmap=cmap)\n",
    "    plt.scatter(xin[0], xin[1], c='k', marker='x', s=100, cmap=cmap)\n",
    "    c = plt.Circle((xin[0], xin[1]), radius=0.2, edgecolor='k', fill=False, linestyle='--')\n",
    "    plt.gca().add_artist(c)\n",
    "    plt.xlim([-0.5, 1.5])\n",
    "    plt.ylim([-0.5, 1.5])\n",
    "plt.tight_layout()\n",
    "plt.show()"
   ]
  },
  {
   "cell_type": "code",
   "execution_count": 7,
   "metadata": {
    "pycharm": {
     "name": "#%%\n"
    }
   },
   "outputs": [],
   "source": []
  }
 ],
 "metadata": {
  "kernelspec": {
   "display_name": "Python 3 (ipykernel)",
   "language": "python",
   "name": "python3"
  },
  "language_info": {
   "codemirror_mode": {
    "name": "ipython",
    "version": 3
   },
   "file_extension": ".py",
   "mimetype": "text/x-python",
   "name": "python",
   "nbconvert_exporter": "python",
   "pygments_lexer": "ipython3",
   "version": "3.9.11"
  }
 },
 "nbformat": 4,
 "nbformat_minor": 1
}
